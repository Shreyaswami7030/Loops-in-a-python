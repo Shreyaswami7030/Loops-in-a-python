{
 "cells": [
  {
   "cell_type": "code",
   "execution_count": 1,
   "id": "55ef7d55-9ebe-416f-b63b-4f38b6769f86",
   "metadata": {},
   "outputs": [
    {
     "name": "stdout",
     "output_type": "stream",
     "text": [
      "1\n",
      "2\n",
      "3\n",
      "4\n",
      "5\n",
      "6\n",
      "7\n",
      "8\n",
      "9\n",
      "10\n"
     ]
    }
   ],
   "source": [
    "n=11\n",
    "for i in range(1,n):\n",
    "    print(i)"
   ]
  },
  {
   "cell_type": "code",
   "execution_count": 2,
   "id": "f3772cea-38a8-4ec4-b058-2784ca9f0706",
   "metadata": {},
   "outputs": [
    {
     "name": "stdout",
     "output_type": "stream",
     "text": [
      "0\n",
      "2\n",
      "4\n",
      "6\n",
      "8\n"
     ]
    }
   ],
   "source": [
    "given_range=10\n",
    "for i in range(given_range):\n",
    "    if i %2==0:\n",
    "        print(i)"
   ]
  },
  {
   "cell_type": "code",
   "execution_count": 3,
   "id": "b325ee9b-2171-4080-afed-101f0034f6c4",
   "metadata": {},
   "outputs": [
    {
     "name": "stdout",
     "output_type": "stream",
     "text": [
      "1\n",
      "3\n",
      "6\n",
      "10\n",
      "15\n",
      "21\n",
      "28\n",
      "36\n",
      "45\n",
      "55\n"
     ]
    }
   ],
   "source": [
    "given_number=10\n",
    "sum=0\n",
    "for i in range(1,given_number+1):\n",
    "    sum+=i\n",
    "    print(sum)\n",
    "    "
   ]
  },
  {
   "cell_type": "code",
   "execution_count": 4,
   "id": "71c2627b-bcba-408e-a4f7-a44155be8483",
   "metadata": {},
   "outputs": [
    {
     "name": "stdout",
     "output_type": "stream",
     "text": [
      "1\n",
      "3\n",
      "5\n",
      "7\n",
      "9\n"
     ]
    }
   ],
   "source": [
    "given_number=10\n",
    "sum=0\n",
    "for i in range(given_number):\n",
    "    if i%2!=0:\n",
    "        print(i)"
   ]
  },
  {
   "cell_type": "code",
   "execution_count": 5,
   "id": "2f98fd2e-03b6-496f-9443-ee4f66774238",
   "metadata": {},
   "outputs": [
    {
     "name": "stdout",
     "output_type": "stream",
     "text": [
      "3 x 0 = 0\n",
      "3 x 1 = 3\n",
      "3 x 2 = 6\n",
      "3 x 3 = 9\n",
      "3 x 4 = 12\n",
      "3 x 5 = 15\n",
      "3 x 6 = 18\n",
      "3 x 7 = 21\n",
      "3 x 8 = 24\n",
      "3 x 9 = 27\n",
      "3 x 10 = 30\n"
     ]
    }
   ],
   "source": [
    "q= 3\n",
    "for i in range(11):\n",
    "    print(q, \"x\",i,\"=\" ,3*i)\n",
    "    "
   ]
  },
  {
   "cell_type": "code",
   "execution_count": 6,
   "id": "d7be65ab-c552-49ae-b5ca-a42df94dd00f",
   "metadata": {},
   "outputs": [
    {
     "name": "stdout",
     "output_type": "stream",
     "text": [
      "21 * 1 = 21\n",
      "21 * 2 = 42\n",
      "21 * 3 = 63\n",
      "21 * 4 = 84\n",
      "21 * 5 = 105\n",
      "21 * 6 = 126\n",
      "21 * 7 = 147\n",
      "21 * 8 = 168\n",
      "21 * 9 = 189\n",
      "21 * 10 = 210\n"
     ]
    }
   ],
   "source": [
    "s=21\n",
    "for i in range(1,11):\n",
    "    print(s,\"*\",i,\"=\",21*i)"
   ]
  },
  {
   "cell_type": "code",
   "execution_count": 7,
   "id": "19e2adae-8ebb-46b2-884a-1f699ccba580",
   "metadata": {},
   "outputs": [
    {
     "name": "stdout",
     "output_type": "stream",
     "text": [
      "8 * 1 = 8\n",
      "8 * 2 = 16\n",
      "8 * 3 = 24\n",
      "8 * 4 = 32\n",
      "8 * 5 = 40\n",
      "8 * 6 = 48\n",
      "8 * 7 = 56\n",
      "8 * 8 = 64\n",
      "8 * 9 = 72\n",
      "8 * 10 = 80\n"
     ]
    }
   ],
   "source": [
    "w=8\n",
    "for i in range(1,11):\n",
    "    print(w,\"*\",i,\"=\",8*i)"
   ]
  },
  {
   "cell_type": "code",
   "execution_count": 8,
   "id": "a2e14a3f-4a3d-4ecb-b37f-0190c2652963",
   "metadata": {},
   "outputs": [
    {
     "name": "stdout",
     "output_type": "stream",
     "text": [
      "1\n",
      "2\n",
      "3\n",
      "4\n",
      "5\n"
     ]
    }
   ],
   "source": [
    "a=[1,2,3,4,5,]\n",
    "for i in a:\n",
    "    print(i)"
   ]
  },
  {
   "cell_type": "code",
   "execution_count": 9,
   "id": "dd52d5be-67dc-45e4-8d3e-450ae7c92312",
   "metadata": {},
   "outputs": [
    {
     "name": "stdout",
     "output_type": "stream",
     "text": [
      "7 * 1 = 7\n",
      "7 * 2 = 14\n",
      "7 * 3 = 21\n",
      "7 * 4 = 28\n",
      "7 * 5 = 35\n",
      "7 * 6 = 42\n",
      "7 * 7 = 49\n",
      "7 * 8 = 56\n",
      "7 * 9 = 63\n",
      "7 * 10 = 70\n"
     ]
    }
   ],
   "source": [
    "h = 7\n",
    "for i in range(1,11):\n",
    "    print(h,\"*\", i, \"=\",7*i)"
   ]
  },
  {
   "cell_type": "code",
   "execution_count": 10,
   "id": "915969f7-f069-4d36-b683-58dbbfa128af",
   "metadata": {},
   "outputs": [
    {
     "name": "stdout",
     "output_type": "stream",
     "text": [
      "(0, 1, 2, 3, 4)\n"
     ]
    }
   ],
   "source": [
    "n=range(5)\n",
    "print(tuple(n))"
   ]
  },
  {
   "cell_type": "code",
   "execution_count": 11,
   "id": "d41e359c-691f-47c6-9002-e2b052d3d420",
   "metadata": {},
   "outputs": [
    {
     "name": "stdout",
     "output_type": "stream",
     "text": [
      "[0, 3, 6, 9]\n"
     ]
    }
   ],
   "source": [
    "n=range(0,11,3)\n",
    "print(list(n))"
   ]
  },
  {
   "cell_type": "code",
   "execution_count": 12,
   "id": "1b6ef56f-b0be-4d6f-a101-ed70350b9d31",
   "metadata": {},
   "outputs": [
    {
     "name": "stdout",
     "output_type": "stream",
     "text": [
      "15\n"
     ]
    }
   ],
   "source": [
    "sum=0\n",
    "for i in range(1,6):\n",
    "    sum+=i\n",
    "print(sum)"
   ]
  },
  {
   "cell_type": "code",
   "execution_count": 13,
   "id": "358d1bd4-773a-47f9-8dab-ac612b82015d",
   "metadata": {},
   "outputs": [
    {
     "name": "stdout",
     "output_type": "stream",
     "text": [
      "['apple', 'banana', 'grapes']\n",
      "['apple', 'banana', 'grapes']\n",
      "['apple', 'banana', 'grapes']\n"
     ]
    }
   ],
   "source": [
    "fr=[\"apple\",\"banana\",\"grapes\"]\n",
    "for i in fr:\n",
    " print(fr)"
   ]
  },
  {
   "cell_type": "code",
   "execution_count": 14,
   "id": "764421d8-a476-40b5-b5cd-bcff9a060934",
   "metadata": {},
   "outputs": [
    {
     "name": "stdout",
     "output_type": "stream",
     "text": [
      "p\n",
      "y\n",
      "t\n",
      "h\n",
      "o\n",
      "n\n"
     ]
    }
   ],
   "source": [
    "word=\"python\"\n",
    "for char in  word:\n",
    "    print(char)"
   ]
  },
  {
   "cell_type": "code",
   "execution_count": 15,
   "id": "10509c27-dc65-42bb-ae3a-d0b39589f8fd",
   "metadata": {},
   "outputs": [
    {
     "name": "stdout",
     "output_type": "stream",
     "text": [
      "0\n",
      "1\n",
      "2\n",
      "3\n",
      "4\n"
     ]
    }
   ],
   "source": [
    "for i in range(5):\n",
    " print(i)"
   ]
  },
  {
   "cell_type": "code",
   "execution_count": 16,
   "id": "51078f67-2bb7-4571-a685-5576ed8b1b90",
   "metadata": {},
   "outputs": [
    {
     "name": "stdout",
     "output_type": "stream",
     "text": [
      "0 apple\n",
      "1 banana\n",
      "2 grapes\n"
     ]
    }
   ],
   "source": [
    "fr=[\"apple\",\"banana\",\"grapes\"]\n",
    "for index,fr in enumerate(fr):\n",
    "    print(index,fr)"
   ]
  },
  {
   "cell_type": "code",
   "execution_count": 17,
   "id": "e2b53336-bb66-4de9-ada4-c3da0701a572",
   "metadata": {},
   "outputs": [
    {
     "name": "stdout",
     "output_type": "stream",
     "text": [
      "0\n",
      "1\n",
      "2\n",
      "3\n",
      "4\n",
      "succesfully\n"
     ]
    }
   ],
   "source": [
    "for i in range(5):\n",
    "    print(i)\n",
    "else:\n",
    "    print(\"succesfully\")"
   ]
  },
  {
   "cell_type": "code",
   "execution_count": 18,
   "id": "15d62248-9279-4334-a03d-c91bb1316f67",
   "metadata": {},
   "outputs": [
    {
     "name": "stdout",
     "output_type": "stream",
     "text": [
      "range(0, 11, 3)\n"
     ]
    }
   ],
   "source": [
    "for i in range(1,20):\n",
    "    if i%2==0:\n",
    "        break\n",
    "    else:\n",
    "        print(n)"
   ]
  },
  {
   "cell_type": "code",
   "execution_count": 19,
   "id": "841223d5-def0-47f0-a29c-cbf60fa3d0ca",
   "metadata": {},
   "outputs": [
    {
     "name": "stdout",
     "output_type": "stream",
     "text": [
      "1\n",
      "4\n",
      "7\n",
      "6\n",
      "4\n",
      "sum of no 22\n"
     ]
    }
   ],
   "source": [
    "a=[1,4,7,6,4]\n",
    "sum=0\n",
    "for i in a:\n",
    "    print(i)\n",
    "    sum=sum+i\n",
    "print(\"sum of no\",sum)"
   ]
  },
  {
   "cell_type": "code",
   "execution_count": 20,
   "id": "31ac3c12-5cf1-43b6-9364-ec8b1863266e",
   "metadata": {},
   "outputs": [
    {
     "name": "stdout",
     "output_type": "stream",
     "text": [
      "2\n",
      "3\n",
      "4\n",
      "5\n",
      "67\n",
      "8\n",
      "9\n",
      "sum of no 98\n"
     ]
    }
   ],
   "source": [
    "b=(2,3,4,5,67,8,9)\n",
    "sum=0\n",
    "for i in b:\n",
    "    print(i)\n",
    "    sum=sum+i\n",
    "print(\"sum of no\",sum)"
   ]
  },
  {
   "cell_type": "code",
   "execution_count": 21,
   "id": "b3bf3644-9864-49c9-b6f4-98cdacbb8f76",
   "metadata": {},
   "outputs": [
    {
     "name": "stdout",
     "output_type": "stream",
     "text": [
      "1\n",
      "2\n",
      "3\n",
      "4\n",
      "5\n",
      "6\n",
      "7\n",
      "8\n",
      "9\n",
      "10\n"
     ]
    }
   ],
   "source": [
    "#Print the first 10 natural numbers using for loop.\n",
    "n=11\n",
    "for i in range(1,n):\n",
    "    print(i)"
   ]
  },
  {
   "cell_type": "code",
   "execution_count": 22,
   "id": "aa3c397a-e661-4515-ba17-3608ec5457b7",
   "metadata": {},
   "outputs": [
    {
     "name": "stdout",
     "output_type": "stream",
     "text": [
      "0\n",
      "2\n",
      "4\n",
      "6\n",
      "8\n"
     ]
    }
   ],
   "source": [
    "# 2: Python program to print all the even numbers within the given range.\n",
    "a=10\n",
    "for i in range(a):\n",
    "    if i %2==0:\n",
    "        print(i)\n"
   ]
  },
  {
   "cell_type": "code",
   "execution_count": 23,
   "id": "92b53469-bad1-4bbf-8632-8512a3549cf8",
   "metadata": {},
   "outputs": [
    {
     "name": "stdout",
     "output_type": "stream",
     "text": [
      "55\n"
     ]
    }
   ],
   "source": [
    "#3: Python program to calculate the sum of all numbers from 1 to a given number.\n",
    "a=10\n",
    "sum=0\n",
    "for i in range(1,a+1):\n",
    "    sum+=i\n",
    "print(sum)"
   ]
  },
  {
   "cell_type": "code",
   "execution_count": 24,
   "id": "502186c4-f973-4ade-ba4b-13ebe29b05a1",
   "metadata": {},
   "outputs": [
    {
     "name": "stdout",
     "output_type": "stream",
     "text": [
      "25\n"
     ]
    }
   ],
   "source": [
    " # 4:Python program to calculate the sum of all the odd numbers within the given range.\n",
    "a=10\n",
    "sum=0\n",
    "for i in range(a):\n",
    "    if i%2!=0:\n",
    "        sum+=i\n",
    "print(sum)\n"
   ]
  },
  {
   "cell_type": "code",
   "execution_count": 25,
   "id": "90c2dfb4-bdd1-4376-b129-8cd1a8fcf22d",
   "metadata": {},
   "outputs": [
    {
     "name": "stdout",
     "output_type": "stream",
     "text": [
      "5 x 0 = 0\n",
      "5 x 1 = 5\n",
      "5 x 2 = 10\n",
      "5 x 3 = 15\n",
      "5 x 4 = 20\n",
      "5 x 5 = 25\n",
      "5 x 6 = 30\n",
      "5 x 7 = 35\n",
      "5 x 8 = 40\n",
      "5 x 9 = 45\n",
      "5 x 10 = 50\n"
     ]
    }
   ],
   "source": [
    "#5: Python program to print a multiplication table of a given number\n",
    "a=5\n",
    "for i in range(11):\n",
    "    print(a,\"x\",i,\"=\",5*i)\n",
    "                "
   ]
  },
  {
   "cell_type": "code",
   "execution_count": 26,
   "id": "10fd0243-8234-4232-99b9-a4d78dd8e31f",
   "metadata": {},
   "outputs": [
    {
     "name": "stdout",
     "output_type": "stream",
     "text": [
      "8 x 0 = 0\n",
      "8 x 1 = 8\n",
      "8 x 2 = 16\n",
      "8 x 3 = 24\n",
      "8 x 4 = 32\n",
      "8 x 5 = 40\n",
      "8 x 6 = 48\n",
      "8 x 7 = 56\n",
      "8 x 8 = 64\n",
      "8 x 9 = 72\n",
      "8 x 10 = 80\n"
     ]
    }
   ],
   "source": [
    "#5: Python program to print a multiplication table of a given number\n",
    "s=8\n",
    "for i in range(11):\n",
    "    print(s,\"x\",i,\"=\",8*i)"
   ]
  },
  {
   "cell_type": "code",
   "execution_count": 27,
   "id": "82d34070-5db7-4949-96f1-5ad325c24ac2",
   "metadata": {},
   "outputs": [
    {
     "name": "stdout",
     "output_type": "stream",
     "text": [
      "22\n",
      "34\n",
      "76\n",
      "54\n",
      "33\n"
     ]
    }
   ],
   "source": [
    "# 6: Python program to display numbers from a list using a for loop.\n",
    "a=[22,34,76,54,33]\n",
    "for i in a:\n",
    "    print(i)"
   ]
  },
  {
   "cell_type": "code",
   "execution_count": 28,
   "id": "d28be275-5c9d-4c4b-9e84-4515d13cc5d5",
   "metadata": {},
   "outputs": [
    {
     "name": "stdout",
     "output_type": "stream",
     "text": [
      "3\n"
     ]
    }
   ],
   "source": [
    "# 7.Python program to count the total number of digits in a number.\n",
    "a=434\n",
    "a=str(a)\n",
    "count=0\n",
    "for i in a:\n",
    "    count+=1\n",
    "print(count)"
   ]
  },
  {
   "cell_type": "code",
   "execution_count": 29,
   "id": "3f17c43e-a003-46f3-8e7c-8c132fa91ced",
   "metadata": {},
   "outputs": [
    {
     "data": {
      "text/plain": [
       "5"
      ]
     },
     "execution_count": 29,
     "metadata": {},
     "output_type": "execute_result"
    }
   ],
   "source": [
    "a=23334\n",
    "a=str(a)\n",
    "len(a)"
   ]
  },
  {
   "cell_type": "code",
   "execution_count": 30,
   "id": "6e08fea0-e509-4ede-b34a-8e5f17102db7",
   "metadata": {},
   "outputs": [
    {
     "name": "stdout",
     "output_type": "stream",
     "text": [
      "the string madam palindrome\n"
     ]
    }
   ],
   "source": [
    "# 8: Python program to check if the given string is a palindrome.\n",
    "give_string=\"madam\"\n",
    "reverse=\"\"\n",
    "for i in give_string:\n",
    "    reverse=i+reverse\n",
    "if(give_string==reverse):\n",
    "    print(\"the string\",give_string, \"palindrome\")\n",
    "else:\n",
    "    print(\"the string\", give_string ,\"not palindrome\")"
   ]
  },
  {
   "cell_type": "code",
   "execution_count": 31,
   "id": "7da336b5-82c3-429b-bf0d-acc9b29bf7b5",
   "metadata": {},
   "outputs": [
    {
     "name": "stdin",
     "output_type": "stream",
     "text": [
      "Enter a no: 74747\n"
     ]
    },
    {
     "name": "stdout",
     "output_type": "stream",
     "text": [
      "no is pallindrom\n"
     ]
    }
   ],
   "source": [
    "a=int(input(\"Enter a no:\"))\n",
    "a=str(a)\n",
    "reverse=\"\"\n",
    "for i in a:\n",
    "    reverse=reverse+i\n",
    "if(a==reverse):\n",
    "    print(\"no is pallindrom\")\n",
    "else:\n",
    "    print(\"no is not pallindrom\")\n",
    "    "
   ]
  },
  {
   "cell_type": "code",
   "execution_count": 32,
   "id": "d4d0b735-cb33-44c8-88f0-6566441c9820",
   "metadata": {},
   "outputs": [
    {
     "name": "stdin",
     "output_type": "stream",
     "text": [
      " mom\n"
     ]
    },
    {
     "name": "stdout",
     "output_type": "stream",
     "text": [
      "mom\n"
     ]
    }
   ],
   "source": [
    "#10.Python program that accepts a word from the user and reverses it.\n",
    "a=input()\n",
    "reverse=\"\"\n",
    "for i in a:\n",
    "    reverse = i + reverse\n",
    "print(reverse)"
   ]
  },
  {
   "cell_type": "code",
   "execution_count": 33,
   "id": "b5d32071-e45b-45b6-b18b-67456e87c211",
   "metadata": {},
   "outputs": [
    {
     "name": "stdin",
     "output_type": "stream",
     "text": [
      " mom\n"
     ]
    },
    {
     "name": "stdout",
     "output_type": "stream",
     "text": [
      "mom\n"
     ]
    }
   ],
   "source": [
    "#11.Python program that accepts a word from the user and reverses it.\n",
    "s=input()\n",
    "reverse=\"\"\n",
    "for i in s:\n",
    "    reverse=i+reverse\n",
    "print(reverse)"
   ]
  },
  {
   "cell_type": "code",
   "execution_count": 34,
   "id": "0f07f7dc-6a67-4c9e-91bc-d3c9a5a0a7b5",
   "metadata": {},
   "outputs": [
    {
     "name": "stdout",
     "output_type": "stream",
     "text": [
      "1 * 1 = 1\n",
      "1 * 2 = 2\n",
      "1 * 3 = 3\n",
      "1 * 4 = 4\n",
      "1 * 5 = 5\n",
      "1 * 6 = 6\n",
      "1 * 7 = 7\n",
      "1 * 8 = 8\n",
      "1 * 9 = 9\n",
      "1 * 10 = 10\n",
      "2 * 1 = 2\n",
      "2 * 2 = 4\n",
      "2 * 3 = 6\n",
      "2 * 4 = 8\n",
      "2 * 5 = 10\n",
      "2 * 6 = 12\n",
      "2 * 7 = 14\n",
      "2 * 8 = 16\n",
      "2 * 9 = 18\n",
      "2 * 10 = 20\n",
      "3 * 1 = 3\n",
      "3 * 2 = 6\n",
      "3 * 3 = 9\n",
      "3 * 4 = 12\n",
      "3 * 5 = 15\n",
      "3 * 6 = 18\n",
      "3 * 7 = 21\n",
      "3 * 8 = 24\n",
      "3 * 9 = 27\n",
      "3 * 10 = 30\n",
      "4 * 1 = 4\n",
      "4 * 2 = 8\n",
      "4 * 3 = 12\n",
      "4 * 4 = 16\n",
      "4 * 5 = 20\n",
      "4 * 6 = 24\n",
      "4 * 7 = 28\n",
      "4 * 8 = 32\n",
      "4 * 9 = 36\n",
      "4 * 10 = 40\n",
      "5 * 1 = 5\n",
      "5 * 2 = 10\n",
      "5 * 3 = 15\n",
      "5 * 4 = 20\n",
      "5 * 5 = 25\n",
      "5 * 6 = 30\n",
      "5 * 7 = 35\n",
      "5 * 8 = 40\n",
      "5 * 9 = 45\n",
      "5 * 10 = 50\n"
     ]
    }
   ],
   "source": [
    "# nested for loop\n",
    "for i in range(1,6):\n",
    "    for j in range(1,11):\n",
    "        print(i,\"*\",j,\"=\",i*j)"
   ]
  },
  {
   "cell_type": "code",
   "execution_count": 35,
   "id": "5444b47c-9646-4cc2-ac0d-c14291e39793",
   "metadata": {},
   "outputs": [
    {
     "name": "stdout",
     "output_type": "stream",
     "text": [
      "1 * 9 = 9\n",
      "2 * 9 = 18\n",
      "3 * 9 = 27\n",
      "4 * 9 = 36\n",
      "5 * 9 = 45\n",
      "6 * 9 = 54\n",
      "7 * 9 = 63\n",
      "8 * 9 = 72\n",
      "9 * 9 = 81\n",
      "10 * 9 = 90\n"
     ]
    }
   ],
   "source": [
    "n=9\n",
    "for i in range(1,11):\n",
    "    print(i,\"*\",n,\"=\",i*n)\n",
    "    "
   ]
  },
  {
   "cell_type": "code",
   "execution_count": 36,
   "id": "f42ee142-07e9-4913-9901-3d83c6e2e461",
   "metadata": {},
   "outputs": [
    {
     "name": "stdin",
     "output_type": "stream",
     "text": [
      "Enter a no 2\n"
     ]
    },
    {
     "name": "stdout",
     "output_type": "stream",
     "text": [
      "1 * 2 = 2\n",
      "2 * 2 = 4\n",
      "3 * 2 = 6\n",
      "4 * 2 = 8\n",
      "5 * 2 = 10\n",
      "6 * 2 = 12\n",
      "7 * 2 = 14\n",
      "8 * 2 = 16\n",
      "9 * 2 = 18\n",
      "10 * 2 = 20\n"
     ]
    }
   ],
   "source": [
    "a=int(input(\"Enter a no\"))\n",
    "for i in range(1,11):\n",
    "      print(i,\"*\",a,\"=\",i*a)"
   ]
  },
  {
   "cell_type": "code",
   "execution_count": 37,
   "id": "99278994-fc56-4971-a748-a4a9a32db0c0",
   "metadata": {},
   "outputs": [
    {
     "name": "stdout",
     "output_type": "stream",
     "text": [
      "Length of string: 12\n"
     ]
    }
   ],
   "source": [
    "st= \"Shreya Swami\"\n",
    "print(\"Length of string:\", len(st))"
   ]
  },
  {
   "cell_type": "code",
   "execution_count": 38,
   "id": "8d24c324-a002-430e-b616-c837f1cb1071",
   "metadata": {},
   "outputs": [
    {
     "name": "stdout",
     "output_type": "stream",
     "text": [
      "Length of string: 12\n",
      "S\n",
      "h\n",
      "r\n",
      "e\n",
      "y\n",
      "a\n",
      " \n",
      "S\n",
      "w\n",
      "a\n",
      "m\n",
      "i\n"
     ]
    }
   ],
   "source": [
    "st= \"Shreya Swami\"\n",
    "print(\"Length of string:\", len(st))\n",
    "for char in st:\n",
    "    print(char)"
   ]
  },
  {
   "cell_type": "code",
   "execution_count": 39,
   "id": "13ffdf55-33de-4487-8970-0b75292d915c",
   "metadata": {},
   "outputs": [
    {
     "name": "stdout",
     "output_type": "stream",
     "text": [
      "Length of string: 12\n",
      "S\n",
      "python programming language\n",
      "\n",
      "h\n",
      "python programming language\n",
      "\n",
      "r\n",
      "python programming language\n",
      "\n",
      "e\n",
      "python programming language\n",
      "\n",
      "y\n",
      "python programming language\n",
      "\n",
      "a\n",
      "python programming language\n",
      "\n",
      " \n",
      "python programming language\n",
      "\n",
      "S\n",
      "python programming language\n",
      "\n",
      "w\n",
      "python programming language\n",
      "\n",
      "a\n",
      "python programming language\n",
      "\n",
      "m\n",
      "python programming language\n",
      "\n",
      "i\n",
      "python programming language\n",
      "\n"
     ]
    }
   ],
   "source": [
    "st= \"Shreya Swami\"\n",
    "print(\"Length of string:\", len(st))\n",
    "for char in st:\n",
    "    print(char)\n",
    "    print(\"python programming language\")\n",
    "    print()"
   ]
  },
  {
   "cell_type": "code",
   "execution_count": 40,
   "id": "353d4d4e-b4f8-4247-a704-b7568815707b",
   "metadata": {},
   "outputs": [
    {
     "name": "stdout",
     "output_type": "stream",
     "text": [
      "int list is: [2, 3, 5, 6]\n",
      "**********\n",
      "Float list is: [3.4, 7.888]\n",
      "**********\n",
      "String list is : ['Machine learning', ' Power Bi']\n"
     ]
    }
   ],
   "source": [
    "l=[2,3,5,6,  \"Machine learning\",\" Power Bi\", 3.4, 7.888]\n",
    "\n",
    "int_l=[]\n",
    "float_l=[]\n",
    "str_l=[]\n",
    "for a in l:\n",
    "    if type(a)==int:\n",
    "        int_l.append(a)\n",
    "        \n",
    "    elif type(a)==float:\n",
    "        float_l.append(a)\n",
    "        \n",
    "    elif type(a)==str:\n",
    "        str_l.append(a)\n",
    "        \n",
    "print(\"int list is:\", int_l)\n",
    "print(\"*\"*10)\n",
    "print(\"Float list is:\", float_l)\n",
    "print(\"*\"*10)\n",
    "print(\"String list is :\", str_l)"
   ]
  },
  {
   "cell_type": "code",
   "execution_count": 41,
   "id": "50e903b8-46cd-4858-87a4-8d1e50f8d7ee",
   "metadata": {},
   "outputs": [
    {
     "data": {
      "text/plain": [
       "[23, 32, 33, 44, 54, 78, 99, 100]"
      ]
     },
     "execution_count": 41,
     "metadata": {},
     "output_type": "execute_result"
    }
   ],
   "source": [
    "a=[23,54,33,78,99,100,44,32]\n",
    "sorted(a)"
   ]
  },
  {
   "cell_type": "code",
   "execution_count": 42,
   "id": "37b47cee-cb4a-43ef-994e-43c6270d77fc",
   "metadata": {},
   "outputs": [
    {
     "name": "stdout",
     "output_type": "stream",
     "text": [
      "1\n",
      "2\n",
      "3\n",
      "4\n",
      "5\n"
     ]
    }
   ],
   "source": [
    "a=[1,2,3,4,5]\n",
    "\n",
    "for i in a:\n",
    "    print(i)"
   ]
  },
  {
   "cell_type": "code",
   "execution_count": 43,
   "id": "7c41e12e-48fb-45e9-9f17-b2e3f7b5c375",
   "metadata": {},
   "outputs": [
    {
     "name": "stdout",
     "output_type": "stream",
     "text": [
      "python\n",
      "python\n",
      "python\n",
      "python\n",
      "python\n",
      "python\n",
      "python\n",
      "python\n",
      "python\n",
      "python\n"
     ]
    }
   ],
   "source": [
    "s=\"python\"\n",
    "for i in range(1,11):\n",
    "    print(s)"
   ]
  },
  {
   "cell_type": "code",
   "execution_count": 44,
   "id": "c93f3e75-86f5-492e-b6ce-367b8401d3aa",
   "metadata": {},
   "outputs": [
    {
     "name": "stdout",
     "output_type": "stream",
     "text": [
      "0 s\n",
      "1 h\n",
      "2 r\n",
      "3 e\n",
      "4 y\n",
      "5 a\n"
     ]
    }
   ],
   "source": [
    "string=\"shreya\"\n",
    "\n",
    "for index,value in enumerate(string):\n",
    "    print(index,value)"
   ]
  },
  {
   "cell_type": "code",
   "execution_count": 45,
   "id": "86e49482-e25b-418c-9eea-a16f4ffbe271",
   "metadata": {},
   "outputs": [
    {
     "name": "stdout",
     "output_type": "stream",
     "text": [
      "0 2\n",
      "1 3\n",
      "2 5\n",
      "3 6\n",
      "4 Machine learning\n",
      "5  Power Bi\n",
      "6 3.4\n",
      "7 7.888\n"
     ]
    }
   ],
   "source": [
    "l=[2,3,5,6,  \"Machine learning\",\" Power Bi\", 3.4, 7.888]\n",
    "\n",
    "for index,value in enumerate(l):\n",
    "    print(index,value)"
   ]
  },
  {
   "cell_type": "code",
   "execution_count": 46,
   "id": "8a838015-4544-462a-abd2-bca764068e62",
   "metadata": {},
   "outputs": [
    {
     "name": "stdout",
     "output_type": "stream",
     "text": [
      "At index0, value is 2\n",
      "At index1, value is 3\n",
      "At index2, value is 5\n",
      "At index3, value is 6\n",
      "At index4, value is Machine learning\n",
      "At index5, value is  Power Bi\n",
      "At index6, value is 3.4\n",
      "At index7, value is 7.888\n"
     ]
    }
   ],
   "source": [
    "l=[2,3,5,6,  \"Machine learning\",\" Power Bi\", 3.4, 7.888]\n",
    "\n",
    "for i,v in enumerate(l):\n",
    "    print(f\"At index{i}, value is {v}\")"
   ]
  },
  {
   "cell_type": "code",
   "execution_count": 47,
   "id": "bc1ee34b-72b6-43cc-9773-7cc65c0256c4",
   "metadata": {},
   "outputs": [
    {
     "name": "stdout",
     "output_type": "stream",
     "text": [
      "1\n",
      "2\n",
      "3\n",
      "4\n",
      "5\n",
      "Hello\n",
      "**********\n",
      "Value found\n",
      "6\n",
      "7\n",
      "8\n",
      "9\n",
      "10\n"
     ]
    }
   ],
   "source": [
    "for i in range(1,11):\n",
    "    print(i)\n",
    "\n",
    "    if i ==5:\n",
    "        print(\"Hello\")\n",
    "        print(\"*\"*10)\n",
    "        print(\"Value found\")"
   ]
  },
  {
   "cell_type": "code",
   "execution_count": 48,
   "id": "ed928d0c-e0c1-48ec-989b-c1bbf42178ff",
   "metadata": {},
   "outputs": [
    {
     "name": "stdout",
     "output_type": "stream",
     "text": [
      "1\n",
      "2\n",
      "3\n",
      "4\n",
      "5\n",
      "Hello\n",
      "**********\n",
      "Value found\n"
     ]
    }
   ],
   "source": [
    "for i in range(1,11):\n",
    "    print(i)\n",
    "\n",
    "    if i ==5:\n",
    "        print(\"Hello\")\n",
    "        print(\"*\"*10)\n",
    "        print(\"Value found\")\n",
    "        break"
   ]
  },
  {
   "cell_type": "code",
   "execution_count": 49,
   "id": "b4a8c86b-37ea-48bb-be03-2cadb1a698aa",
   "metadata": {},
   "outputs": [
    {
     "name": "stdout",
     "output_type": "stream",
     "text": [
      "float values is: 3.4\n",
      "float value is found\n"
     ]
    }
   ],
   "source": [
    "l=[2,3,5,6,  \"Machine learning\",\" Power Bi\", 3.4, 7.888]\n",
    "for i in l:\n",
    "    if type(i)==float:\n",
    "        print(\"float values is:\", i)\n",
    "        print(\"float value is found\")\n",
    "        break\n",
    "        "
   ]
  },
  {
   "cell_type": "code",
   "execution_count": 50,
   "id": "8dfc5029-6b69-4dbf-82b0-1c57a181cc32",
   "metadata": {},
   "outputs": [
    {
     "name": "stdout",
     "output_type": "stream",
     "text": [
      "int value: 2\n",
      "int value: 3\n",
      "int value: 5\n",
      "int value: 6\n",
      "int value: Machine learning\n",
      "string is foun in a list\n"
     ]
    }
   ],
   "source": [
    "l=[2,3,5,6,  \"Machine learning\",\" Power Bi\", 3.4, 7.888]\n",
    "\n",
    "for i in l:\n",
    "    print(\"int value:\", i)\n",
    "    if type(i)==str:\n",
    "        print(\"string is foun in a list\")\n",
    "        break"
   ]
  },
  {
   "cell_type": "code",
   "execution_count": 51,
   "id": "8852be2b-2b27-4433-a03e-6983864a30d8",
   "metadata": {},
   "outputs": [
    {
     "name": "stdout",
     "output_type": "stream",
     "text": [
      "number is : 10\n",
      "number is : 11\n",
      "number is : 12\n",
      "number is : 13\n",
      "num is found\n",
      "number is : 14\n"
     ]
    }
   ],
   "source": [
    "for num in range(10,15):\n",
    "    print(\"number is :\", num)\n",
    "    if num ==13:\n",
    "        print(\"num is found\")\n",
    "        "
   ]
  },
  {
   "cell_type": "code",
   "execution_count": 52,
   "id": "79b6fca9-3ff0-44d6-bd85-7f51c55c6aa1",
   "metadata": {},
   "outputs": [
    {
     "name": "stdout",
     "output_type": "stream",
     "text": [
      "number is : 10\n",
      "number is : 11\n",
      "number is : 12\n",
      "number is : 13\n",
      "num is found\n"
     ]
    }
   ],
   "source": [
    "for num in range(10,15):\n",
    "    print(\"number is :\", num)\n",
    "    if num ==13:\n",
    "        print(\"num is found\")\n",
    "        break"
   ]
  },
  {
   "cell_type": "code",
   "execution_count": 53,
   "id": "fe1e2670-5554-4c30-a18b-efbd05f41a53",
   "metadata": {},
   "outputs": [
    {
     "name": "stdout",
     "output_type": "stream",
     "text": [
      "number is : 10\n",
      "we are tesing break stat\n",
      "number is : 11\n",
      "we are tesing break stat\n",
      "number is : 12\n",
      "we are tesing break stat\n",
      "number is : 13\n",
      "no is found\n"
     ]
    }
   ],
   "source": [
    "for num in range(10,15):\n",
    "    print(\"number is :\", num)\n",
    "    if num ==13:\n",
    "        print(\"no is found\")\n",
    "        break\n",
    "    print(\"we are tesing break stat\")"
   ]
  },
  {
   "cell_type": "markdown",
   "id": "8e57e301-ec8e-4466-859d-4ad44c73e640",
   "metadata": {},
   "source": [
    "# Continue"
   ]
  },
  {
   "cell_type": "code",
   "execution_count": 55,
   "id": "a0ab5cce-b635-4d67-80b8-7c5d6a58838f",
   "metadata": {},
   "outputs": [
    {
     "name": "stdout",
     "output_type": "stream",
     "text": [
      "number is : 10\n",
      "we are tesing break stat\n",
      "******************************\n",
      "number is : 11\n",
      "we are tesing break stat\n",
      "******************************\n",
      "number is : 12\n",
      "we are tesing break stat\n",
      "******************************\n",
      "number is : 13\n",
      "no is found\n",
      "number is : 14\n",
      "we are tesing break stat\n",
      "******************************\n"
     ]
    }
   ],
   "source": [
    "for num in range(10,15):\n",
    "    print(\"number is :\", num)\n",
    "    if num ==13:\n",
    "        print(\"no is found\")\n",
    "        continue\n",
    "    print(\"we are tesing break stat\")\n",
    "    print(\"*\"*30)"
   ]
  },
  {
   "cell_type": "code",
   "execution_count": 56,
   "id": "5d4e8657-a7a9-4b1f-a920-3baa614e82f1",
   "metadata": {},
   "outputs": [
    {
     "name": "stdout",
     "output_type": "stream",
     "text": [
      "integer value is: [2, 3, 5, 6] 4\n",
      "string value is: ['Machine learning', ' Power Bi'] 2\n",
      "float value is: [3.4, 7.888] 2\n"
     ]
    }
   ],
   "source": [
    "l=[2,3,5,6,  \"Machine learning\",\" Power Bi\", 3.4, 7.888]\n",
    "\n",
    "int_l=[]\n",
    "float_l=[]\n",
    "str_l=[]\n",
    "\n",
    "for i in l:\n",
    "    if type(i) == int:\n",
    "        int_l.append(i)\n",
    "        continue\n",
    "        \n",
    "    elif type(i)==str:\n",
    "        str_l.append(i)\n",
    "        continue\n",
    "\n",
    "    elif type(i) ==float:\n",
    "        float_l.append(i)\n",
    "        pass\n",
    "\n",
    "print(\"integer value is:\", int_l,len(int_l))\n",
    "print(\"string value is:\", str_l,len(str_l))\n",
    "print(\"float value is:\", float_l,len(float_l))\n",
    "\n",
    "        "
   ]
  },
  {
   "cell_type": "code",
   "execution_count": 57,
   "id": "88476156-2abe-4c2c-8da5-ee8df561e914",
   "metadata": {},
   "outputs": [
    {
     "name": "stdout",
     "output_type": "stream",
     "text": [
      "value of i:, 1\n",
      "value of i:, 2\n",
      "value of i:, 3\n",
      "value of i:, 4\n",
      "value of i:, 5\n",
      "for loop is completed\n"
     ]
    }
   ],
   "source": [
    "for i in range(1,6):\n",
    "    print(f\"value of i:, {i}\")\n",
    "else:\n",
    "    print(\"for loop is completed\")"
   ]
  },
  {
   "cell_type": "code",
   "execution_count": 58,
   "id": "c2b3bb36-589e-43f9-bcd2-d71a6fe4c33f",
   "metadata": {},
   "outputs": [
    {
     "name": "stdout",
     "output_type": "stream",
     "text": [
      "value of i:, 1\n",
      "value of i:, 2\n",
      "value of i:, 3\n",
      "value of i:, 4\n",
      "value is found\n"
     ]
    }
   ],
   "source": [
    "for i in range(1,6):\n",
    "        print(f\"value of i:, {i}\")\n",
    "        if i ==4:\n",
    "            print(\"value is found\")\n",
    "            break\n",
    "else:\n",
    "    print(\"for loop is completed\")"
   ]
  },
  {
   "cell_type": "code",
   "execution_count": 59,
   "id": "c24d8e76-0570-401c-99a5-7d2c2653ef23",
   "metadata": {},
   "outputs": [
    {
     "name": "stdout",
     "output_type": "stream",
     "text": [
      "value of i:, 1\n",
      "value of i:, 2\n",
      "value of i:, 3\n",
      "value of i:, 4\n",
      "value is found\n",
      "value of i:, 5\n",
      "for loop is completed\n"
     ]
    }
   ],
   "source": [
    "for i in range(1,6):\n",
    "        print(f\"value of i:, {i}\")\n",
    "        if i ==4:\n",
    "            print(\"value is found\")\n",
    "            continue\n",
    "else:\n",
    "    print(\"for loop is completed\")"
   ]
  },
  {
   "cell_type": "code",
   "execution_count": 60,
   "id": "79e8309c-f6f4-48c8-97ef-738112ca70a1",
   "metadata": {},
   "outputs": [
    {
     "name": "stdout",
     "output_type": "stream",
     "text": [
      "value of i:, 1\n",
      "value of i:, 2\n",
      "value of i:, 3\n",
      "value of i:, 4\n",
      "value is found\n",
      "value of i:, 5\n",
      "for loop is completed\n"
     ]
    }
   ],
   "source": [
    "for i in range(1,6):\n",
    "        print(f\"value of i:, {i}\")\n",
    "        if i ==4:\n",
    "            print(\"value is found\")\n",
    "            pass\n",
    "else:\n",
    "    print(\"for loop is completed\")"
   ]
  },
  {
   "cell_type": "markdown",
   "id": "07b3dd67-aedc-4479-a56b-06a340118a65",
   "metadata": {},
   "source": [
    "# Factorial"
   ]
  },
  {
   "cell_type": "code",
   "execution_count": 62,
   "id": "db331bd6-44d3-42e6-a141-ff3618a60c9d",
   "metadata": {},
   "outputs": [
    {
     "name": "stdout",
     "output_type": "stream",
     "text": [
      "120\n"
     ]
    }
   ],
   "source": [
    "n=5\n",
    "fact=1\n",
    "\n",
    "for i in range(1,6):\n",
    "    fact=fact*i\n",
    "    \n",
    "print(fact)"
   ]
  },
  {
   "cell_type": "code",
   "execution_count": 63,
   "id": "669909f4-5944-4870-9d58-e9d56f85c574",
   "metadata": {},
   "outputs": [
    {
     "name": "stdout",
     "output_type": "stream",
     "text": [
      "362880\n"
     ]
    }
   ],
   "source": [
    "n= 21\n",
    "fact=1\n",
    "\n",
    "for i in range(1,10):\n",
    "    fact=fact*i\n",
    "print(fact)"
   ]
  },
  {
   "cell_type": "code",
   "execution_count": 64,
   "id": "0b68e5ee-68e1-4271-8430-7d1dcd3e5085",
   "metadata": {},
   "outputs": [
    {
     "name": "stdout",
     "output_type": "stream",
     "text": [
      "Factorial no  5 is 120\n"
     ]
    }
   ],
   "source": [
    "n=5\n",
    "fact=1\n",
    "\n",
    "for i in range(1,6):\n",
    "    fact=fact*i\n",
    "else:\n",
    "    print(f\"Factorial no  {n} is {fact}\")\n"
   ]
  },
  {
   "cell_type": "code",
   "execution_count": 65,
   "id": "e722602c-5cc1-4578-9365-3cd8b15c05c8",
   "metadata": {},
   "outputs": [
    {
     "name": "stdout",
     "output_type": "stream",
     "text": [
      "factorial no 7 is 5040\n"
     ]
    }
   ],
   "source": [
    "m= 7\n",
    "fact=1\n",
    "\n",
    "for i in range(1,8):\n",
    "    fact = fact*i\n",
    "\n",
    "else:\n",
    "    print(f\"factorial no {m} is {fact}\")"
   ]
  },
  {
   "cell_type": "code",
   "execution_count": 66,
   "id": "9238f78a-1747-4be3-a599-a7fb7798bb7d",
   "metadata": {},
   "outputs": [
    {
     "name": "stdin",
     "output_type": "stream",
     "text": [
      "Enter a no: 2\n"
     ]
    },
    {
     "name": "stdout",
     "output_type": "stream",
     "text": [
      "factorial no 2 is 2\n"
     ]
    }
   ],
   "source": [
    "m= int(input(\"Enter a no:\"))\n",
    "fact = 1\n",
    "\n",
    "for i in range(1,m+1):\n",
    "    fact = fact*i\n",
    "\n",
    "else:\n",
    "    print(f\"factorial no {m} is {fact}\")\n"
   ]
  },
  {
   "cell_type": "code",
   "execution_count": 67,
   "id": "4874b215-239a-42ee-94a8-04557c1259e7",
   "metadata": {},
   "outputs": [
    {
     "name": "stdout",
     "output_type": "stream",
     "text": [
      "fact no 15 is 1307674368000\n"
     ]
    }
   ],
   "source": [
    "p= 15\n",
    "fact=1\n",
    "\n",
    "for i in range(1,16):\n",
    "    fact=fact*i\n",
    "\n",
    "else:\n",
    "    print(f\"fact no {p} is {fact}\")\n",
    "    "
   ]
  },
  {
   "cell_type": "code",
   "execution_count": 68,
   "id": "daf99211-80c2-47b2-ab4a-902e5b3be7e8",
   "metadata": {},
   "outputs": [
    {
     "name": "stdin",
     "output_type": "stream",
     "text": [
      "enter a no 7\n"
     ]
    },
    {
     "name": "stdout",
     "output_type": "stream",
     "text": [
      "factorial no 7 is a 5040\n"
     ]
    }
   ],
   "source": [
    "a=int(input(\"enter a no\"))\n",
    "fact=1\n",
    "\n",
    "for i in range(1,a+1):\n",
    "    fact = fact*i\n",
    "\n",
    "\n",
    "else:\n",
    "    print(f\"factorial no {a} is a {fact}\")"
   ]
  },
  {
   "cell_type": "code",
   "execution_count": 69,
   "id": "d18f5315-1c58-4317-b80b-c3d875f9cb2f",
   "metadata": {},
   "outputs": [
    {
     "name": "stdout",
     "output_type": "stream",
     "text": [
      "factorial no 7 is 5040\n"
     ]
    }
   ],
   "source": [
    "v=7\n",
    "fact=1\n",
    "for i in range(1,8):\n",
    "    fact=fact*i\n",
    "\n",
    "else:\n",
    "    print(f\"factorial no {v} is {fact}\")"
   ]
  },
  {
   "cell_type": "code",
   "execution_count": 70,
   "id": "fb49bb21-04e7-4f86-af01-6fefb0eaa0ec",
   "metadata": {},
   "outputs": [
    {
     "name": "stdin",
     "output_type": "stream",
     "text": [
      "enter a no 9\n"
     ]
    },
    {
     "name": "stdout",
     "output_type": "stream",
     "text": [
      "factorial no 7 is 362880\n"
     ]
    }
   ],
   "source": [
    "r=int(input(\"enter a no\"))\n",
    "fact=1\n",
    "\n",
    "for i in range(1,r+1):\n",
    "        fact=fact*i\n",
    "\n",
    "else:\n",
    "    print(f\"factorial no {v} is {fact}\")"
   ]
  },
  {
   "cell_type": "code",
   "execution_count": 144,
   "id": "4760ce95-8e41-40fa-b260-d00a5f6a6dae",
   "metadata": {},
   "outputs": [
    {
     "name": "stdout",
     "output_type": "stream",
     "text": [
      "11 is a Prime Number\n"
     ]
    }
   ],
   "source": [
    "n = 11   \n",
    "\n",
    "for i in range(2,11): # 2 3 4 5 6 7 8 9 10\n",
    "    if n % i == 0:  # False\n",
    "        print(f\"{n} is not a prime number\")\n",
    "        \n",
    "    else:\n",
    "        print(f\"{n} is a Prime Number\")\n",
    "        break"
   ]
  },
  {
   "cell_type": "code",
   "execution_count": 160,
   "id": "545e2e8c-9c3e-476d-b57e-9615891d2021",
   "metadata": {},
   "outputs": [
    {
     "name": "stdout",
     "output_type": "stream",
     "text": [
      "12 is not a prime number\n"
     ]
    }
   ],
   "source": [
    "n = 12\n",
    "\n",
    "for i in range(2,n): # 2 3 4 5 6 7 8 9 10\n",
    "    if n % i == 0:  # False\n",
    "        print(f\"{n} is not a prime number\")\n",
    "        break\n",
    "    else:\n",
    "        print(f\"{n} is a Prime Number\")\n",
    "        "
   ]
  },
  {
   "cell_type": "code",
   "execution_count": 162,
   "id": "b5bed0b2-16a4-484b-9c2a-234d37f9ed17",
   "metadata": {},
   "outputs": [
    {
     "name": "stdout",
     "output_type": "stream",
     "text": [
      "factorial no 9 and 362880\n"
     ]
    }
   ],
   "source": [
    "n=9\n",
    "fact=1\n",
    "\n",
    "for i in range(1,10):\n",
    "    fact=fact*i\n",
    "\n",
    "else:\n",
    "    print(f\"factorial no {n} and {fact}\")"
   ]
  },
  {
   "cell_type": "code",
   "execution_count": 168,
   "id": "870b435f-6e0b-4bee-8097-e88bf6282371",
   "metadata": {},
   "outputs": [
    {
     "name": "stdin",
     "output_type": "stream",
     "text": [
      "enter a no 5\n"
     ]
    },
    {
     "name": "stdout",
     "output_type": "stream",
     "text": [
      "factorial no 5 is 120\n"
     ]
    }
   ],
   "source": [
    "s=int(input(\"enter a no\"))\n",
    "fact=1\n",
    "\n",
    "for i in range(1,s+1):\n",
    "        fact=fact*i\n",
    "\n",
    "else:\n",
    "    print(f\"factorial no {s} is {fact}\")"
   ]
  },
  {
   "cell_type": "code",
   "execution_count": 172,
   "id": "ee100ba5-750f-4e3d-ae65-258c04314af3",
   "metadata": {},
   "outputs": [
    {
     "name": "stdout",
     "output_type": "stream",
     "text": [
      "17 prime no\n"
     ]
    }
   ],
   "source": [
    "s=17\n",
    "\n",
    "for i in range(2,n):\n",
    "    if s % i ==  0:\n",
    "        print(f\"{s} not prime no\")\n",
    "else:\n",
    "   print(f\"{s} prime no\")"
   ]
  },
  {
   "cell_type": "code",
   "execution_count": 182,
   "id": "9a759e00-fc3c-414d-ba9f-2550c23ca101",
   "metadata": {},
   "outputs": [
    {
     "name": "stdin",
     "output_type": "stream",
     "text": [
      "enter a no 4\n"
     ]
    },
    {
     "name": "stdout",
     "output_type": "stream",
     "text": [
      "4 not prime no\n"
     ]
    }
   ],
   "source": [
    "n=int(input(\"enter a no\"))\n",
    "for i in range(2,n):\n",
    "      if n % i ==  0:\n",
    "          print(f\"{n} not prime no\")\n",
    "          break\n",
    "else:\n",
    "   print(f\"{n} prime no\")"
   ]
  },
  {
   "cell_type": "code",
   "execution_count": null,
   "id": "64267b51-38df-49ca-b742-8aaf6887a53d",
   "metadata": {},
   "outputs": [],
   "source": []
  }
 ],
 "metadata": {
  "kernelspec": {
   "display_name": "Python 3 (ipykernel)",
   "language": "python",
   "name": "python3"
  },
  "language_info": {
   "codemirror_mode": {
    "name": "ipython",
    "version": 3
   },
   "file_extension": ".py",
   "mimetype": "text/x-python",
   "name": "python",
   "nbconvert_exporter": "python",
   "pygments_lexer": "ipython3",
   "version": "3.12.4"
  }
 },
 "nbformat": 4,
 "nbformat_minor": 5
}
